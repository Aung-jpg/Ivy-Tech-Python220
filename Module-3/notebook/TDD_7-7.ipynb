{
 "cells": [
  {
   "cell_type": "code",
   "execution_count": 1,
   "id": "6c2915d7-33e5-49fd-ab31-ced18458eb58",
   "metadata": {},
   "outputs": [],
   "source": [
    "things = ['mozzarella', 'cinderlla', 'salmonella']"
   ]
  },
  {
   "cell_type": "code",
   "execution_count": 2,
   "id": "0a14cd6d-4f33-4838-9417-2c3faa37b5b5",
   "metadata": {},
   "outputs": [],
   "source": [
    "things[1] = things[1].title()"
   ]
  },
  {
   "cell_type": "code",
   "execution_count": 3,
   "id": "e64fcb95-cf8b-44f8-b84c-384376ca82a6",
   "metadata": {},
   "outputs": [],
   "source": [
    "things[0] = things[0].upper()"
   ]
  },
  {
   "cell_type": "code",
   "execution_count": 4,
   "id": "0ba3b891-e4fb-4173-a04e-00705b89790c",
   "metadata": {},
   "outputs": [],
   "source": [
    "things.remove('salmonella')"
   ]
  },
  {
   "cell_type": "code",
   "execution_count": 5,
   "id": "b14a7c64-4482-46d8-a70a-5d251b16b7f8",
   "metadata": {},
   "outputs": [],
   "source": [
    "things.append(\"Nobel Prize\")"
   ]
  },
  {
   "cell_type": "code",
   "execution_count": null,
   "id": "053f04e4-5855-472a-aaed-967fb95a61f5",
   "metadata": {},
   "outputs": [],
   "source": [
    "print(things)"
   ]
  }
 ],
 "metadata": {
  "kernelspec": {
   "display_name": "Python 3 (ipykernel)",
   "language": "python",
   "name": "python3"
  },
  "language_info": {
   "codemirror_mode": {
    "name": "ipython",
    "version": 3
   },
   "file_extension": ".py",
   "mimetype": "text/x-python",
   "name": "python",
   "nbconvert_exporter": "python",
   "pygments_lexer": "ipython3",
   "version": "3.12.4"
  }
 },
 "nbformat": 4,
 "nbformat_minor": 5
}
