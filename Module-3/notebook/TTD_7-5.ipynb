{
 "cells": [
  {
   "cell_type": "code",
   "execution_count": 3,
   "id": "d5f2ec1d-0606-4aec-ac64-c17da39a6f26",
   "metadata": {},
   "outputs": [],
   "source": [
    "things = ['mozzarella', 'cinderlla', 'salmonella']"
   ]
  },
  {
   "cell_type": "code",
   "execution_count": 5,
   "id": "4a85e9f3-33ee-4514-b28d-ea53bce4f3f6",
   "metadata": {},
   "outputs": [],
   "source": [
    "things[1] = things[1].title()"
   ]
  },
  {
   "cell_type": "code",
   "execution_count": null,
   "id": "be1ec6b4-f70b-42ad-b5f1-8812a3534bc9",
   "metadata": {},
   "outputs": [],
   "source": [
    "print(things)"
   ]
  }
 ],
 "metadata": {
  "kernelspec": {
   "display_name": "Python 3 (ipykernel)",
   "language": "python",
   "name": "python3"
  },
  "language_info": {
   "codemirror_mode": {
    "name": "ipython",
    "version": 3
   },
   "file_extension": ".py",
   "mimetype": "text/x-python",
   "name": "python",
   "nbconvert_exporter": "python",
   "pygments_lexer": "ipython3",
   "version": "3.12.4"
  }
 },
 "nbformat": 4,
 "nbformat_minor": 5
}
