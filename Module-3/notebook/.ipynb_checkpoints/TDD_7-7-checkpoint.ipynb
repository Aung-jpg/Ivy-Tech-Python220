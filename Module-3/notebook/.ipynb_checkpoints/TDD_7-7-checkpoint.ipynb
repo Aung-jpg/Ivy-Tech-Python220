{
 "cells": [
  {
   "cell_type": "code",
   "execution_count": null,
   "id": "6c2915d7-33e5-49fd-ab31-ced18458eb58",
   "metadata": {},
   "outputs": [],
   "source": [
    "things = ['mozzarella', 'cinderlla', 'salmonella']"
   ]
  },
  {
   "cell_type": "code",
   "execution_count": null,
   "id": "0a14cd6d-4f33-4838-9417-2c3faa37b5b5",
   "metadata": {},
   "outputs": [],
   "source": [
    "things[1] = things[1].title()"
   ]
  },
  {
   "cell_type": "code",
   "execution_count": null,
   "id": "e64fcb95-cf8b-44f8-b84c-384376ca82a6",
   "metadata": {},
   "outputs": [],
   "source": [
    "things[0] = "
   ]
  }
 ],
 "metadata": {
  "kernelspec": {
   "display_name": "Python 3 (ipykernel)",
   "language": "python",
   "name": "python3"
  },
  "language_info": {
   "codemirror_mode": {
    "name": "ipython",
    "version": 3
   },
   "file_extension": ".py",
   "mimetype": "text/x-python",
   "name": "python",
   "nbconvert_exporter": "python",
   "pygments_lexer": "ipython3",
   "version": "3.12.4"
  }
 },
 "nbformat": 4,
 "nbformat_minor": 5
}
