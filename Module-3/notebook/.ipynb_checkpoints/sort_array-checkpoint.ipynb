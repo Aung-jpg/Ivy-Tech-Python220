{
 "cells": [
  {
   "cell_type": "code",
   "execution_count": 6,
   "id": "55e16f83-1b74-45d0-b672-db938b065ba3",
   "metadata": {},
   "outputs": [],
   "source": [
    "class Solution:\n",
    "    # Function to sort an array of 0s, 1s, and 2s\n",
    "    def sort012(self, arr):\n",
    "        arr.sort()\n",
    "        string = \" \".join(str(arr))\n",
    "        return string\n"
   ]
  },
  {
   "cell_type": "code",
   "execution_count": 8,
   "id": "129fb804-84f6-41d2-b79b-9973354a49bf",
   "metadata": {},
   "outputs": [
    {
     "name": "stdout",
     "output_type": "stream",
     "text": [
      "[ 0 ,   1 ,   1 ,   2 ,   2 ]\n"
     ]
    }
   ],
   "source": [
    "ob = Solution()\n",
    "list = [0, 2, 1, 2, 1]\n",
    "print(ob.sort012(list))\n"
   ]
  }
 ],
 "metadata": {
  "kernelspec": {
   "display_name": "Python 3 (ipykernel)",
   "language": "python",
   "name": "python3"
  },
  "language_info": {
   "codemirror_mode": {
    "name": "ipython",
    "version": 3
   },
   "file_extension": ".py",
   "mimetype": "text/x-python",
   "name": "python",
   "nbconvert_exporter": "python",
   "pygments_lexer": "ipython3",
   "version": "3.12.4"
  }
 },
 "nbformat": 4,
 "nbformat_minor": 5
}
