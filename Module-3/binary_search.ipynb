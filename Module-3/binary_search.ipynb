{
 "cells": [
  {
   "cell_type": "code",
   "execution_count": 9,
   "id": "a29ffee9-1548-4b0e-aac7-cb5847122783",
   "metadata": {},
   "outputs": [],
   "source": [
    "#User function template for Python\n",
    "\n",
    "class Solution:\n",
    "    def binarysearch(self, arr, k):\n",
    "        try:\n",
    "            index = arr.index(k)\n",
    "            return index\n",
    "        except ValueError:\n",
    "            return -1"
   ]
  },
  {
   "cell_type": "code",
   "execution_count": 11,
   "id": "bf1b68e0-3fe8-4772-8405-6ed46662e13b",
   "metadata": {},
   "outputs": [
    {
     "name": "stdout",
     "output_type": "stream",
     "text": [
      "1\n"
     ]
    }
   ],
   "source": [
    "ob = Solution()\n",
    "list = [0, 2, 1, 2, 1]\n",
    "print(ob.binarysearch(list, 2))"
   ]
  },
  {
   "cell_type": "code",
   "execution_count": null,
   "id": "1b038a55-41a3-41eb-a3ca-eb74c7382cee",
   "metadata": {},
   "outputs": [],
   "source": []
  }
 ],
 "metadata": {
  "kernelspec": {
   "display_name": "Python 3 (ipykernel)",
   "language": "python",
   "name": "python3"
  },
  "language_info": {
   "codemirror_mode": {
    "name": "ipython",
    "version": 3
   },
   "file_extension": ".py",
   "mimetype": "text/x-python",
   "name": "python",
   "nbconvert_exporter": "python",
   "pygments_lexer": "ipython3",
   "version": "3.12.4"
  }
 },
 "nbformat": 4,
 "nbformat_minor": 5
}
