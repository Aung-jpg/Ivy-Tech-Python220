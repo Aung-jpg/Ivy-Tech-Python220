{
 "cells": [
  {
   "cell_type": "code",
   "execution_count": 1,
   "id": "7e5f03a6-474f-47b4-9d73-3567c5c20802",
   "metadata": {},
   "outputs": [
    {
     "name": "stdout",
     "output_type": "stream",
     "text": [
      "too high\n"
     ]
    }
   ],
   "source": [
    "secret = 2\n",
    "guess = 3\n",
    "\n",
    "if secret == guess:\n",
    "    print(\"just right\")\n",
    "elif secret > guess:\n",
    "    print(\"too low\")\n",
    "elif secret < guess:\n",
    "    print(\"too high\")"
   ]
  }
 ],
 "metadata": {
  "kernelspec": {
   "display_name": "Python 3 (ipykernel)",
   "language": "python",
   "name": "python3"
  },
  "language_info": {
   "codemirror_mode": {
    "name": "ipython",
    "version": 3
   },
   "file_extension": ".py",
   "mimetype": "text/x-python",
   "name": "python",
   "nbconvert_exporter": "python",
   "pygments_lexer": "ipython3",
   "version": "3.12.4"
  }
 },
 "nbformat": 4,
 "nbformat_minor": 5
}
