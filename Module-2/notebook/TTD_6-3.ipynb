{
 "cells": [
  {
   "cell_type": "code",
   "execution_count": 1,
   "id": "3e62fac8-1692-480a-b7ba-b35162daabb7",
   "metadata": {},
   "outputs": [
    {
     "name": "stdout",
     "output_type": "stream",
     "text": [
      "too low\n",
      "too low\n",
      "too low\n",
      "too low\n",
      "too low\n",
      "just right\n"
     ]
    }
   ],
   "source": [
    "guess_me = 5\n",
    "for i in range(10):\n",
    "    if i < guess_me:\n",
    "        print(\"too low\")\n",
    "    if i == guess_me:\n",
    "        print(\"just right\")\n",
    "        break\n",
    "    if i > guess_me:\n",
    "        print(\"oops\")"
   ]
  },
  {
   "cell_type": "code",
   "execution_count": null,
   "id": "5b5ef551-1ba3-4e63-9c0c-c37ca16aa35a",
   "metadata": {},
   "outputs": [],
   "source": []
  }
 ],
 "metadata": {
  "kernelspec": {
   "display_name": "Python 3 (ipykernel)",
   "language": "python",
   "name": "python3"
  },
  "language_info": {
   "codemirror_mode": {
    "name": "ipython",
    "version": 3
   },
   "file_extension": ".py",
   "mimetype": "text/x-python",
   "name": "python",
   "nbconvert_exporter": "python",
   "pygments_lexer": "ipython3",
   "version": "3.12.4"
  }
 },
 "nbformat": 4,
 "nbformat_minor": 5
}
