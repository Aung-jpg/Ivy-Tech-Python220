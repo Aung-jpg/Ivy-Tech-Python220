{
 "cells": [
  {
   "cell_type": "code",
   "execution_count": 1,
   "id": "a43967cb-7a09-4658-a110-06b57ad886f5",
   "metadata": {},
   "outputs": [
    {
     "name": "stdout",
     "output_type": "stream",
     "text": [
      "pea, cherry\n",
      "pea, watermelon\n"
     ]
    }
   ],
   "source": [
    "small = True\n",
    "green = True\n",
    "\n",
    "if small:\n",
    "    print(\"pea, cherry\")\n",
    "if green:\n",
    "    print(\"pea, watermelon\")"
   ]
  }
 ],
 "metadata": {
  "kernelspec": {
   "display_name": "Python 3 (ipykernel)",
   "language": "python",
   "name": "python3"
  },
  "language_info": {
   "codemirror_mode": {
    "name": "ipython",
    "version": 3
   },
   "file_extension": ".py",
   "mimetype": "text/x-python",
   "name": "python",
   "nbconvert_exporter": "python",
   "pygments_lexer": "ipython3",
   "version": "3.12.4"
  }
 },
 "nbformat": 4,
 "nbformat_minor": 5
}
