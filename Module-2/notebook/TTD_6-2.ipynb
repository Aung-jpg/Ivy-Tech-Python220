{
 "cells": [
  {
   "cell_type": "code",
   "execution_count": null,
   "id": "defe7b13-d4b3-4f7d-ba79-5de487552fa9",
   "metadata": {},
   "outputs": [
    {
     "name": "stdout",
     "output_type": "stream",
     "text": [
      "too low\n"
     ]
    }
   ],
   "source": [
    "guess_me = 7\n",
    "number = 1\n",
    "\n",
    "# I think I might've done this wrong\n",
    "while number != guess_me:\n",
    "    if number > guess_me:\n",
    "        print(\"too high\")\n",
    "    if number < guess_me:\n",
    "        print(\"too low\")\n",
    "    while True:\n",
    "        try:\n",
    "            number = int(input(\"That's wrong, what number would you like to guess (1-10): \"))\n",
    "        except ValueError:\n",
    "            print(\"that's not a number\")\n",
    "            continue\n",
    "        break\n",
    "    # increment method\n",
    "    # number += 1\n",
    "else:\n",
    "    print(\"just right\")\n",
    "        "
   ]
  },
  {
   "cell_type": "code",
   "execution_count": null,
   "id": "5ac136f4-d3d2-4695-a6b9-c72d91dfbef1",
   "metadata": {},
   "outputs": [],
   "source": []
  }
 ],
 "metadata": {
  "kernelspec": {
   "display_name": "Python 3 (ipykernel)",
   "language": "python",
   "name": "python3"
  },
  "language_info": {
   "codemirror_mode": {
    "name": "ipython",
    "version": 3
   },
   "file_extension": ".py",
   "mimetype": "text/x-python",
   "name": "python",
   "nbconvert_exporter": "python",
   "pygments_lexer": "ipython3",
   "version": "3.12.4"
  }
 },
 "nbformat": 4,
 "nbformat_minor": 5
}
