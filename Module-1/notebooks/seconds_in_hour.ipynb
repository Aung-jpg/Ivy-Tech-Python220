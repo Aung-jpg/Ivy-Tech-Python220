{
 "cells": [
  {
   "cell_type": "code",
   "execution_count": 58,
   "id": "e4d2b0dc-594a-480f-9f39-3abf87742970",
   "metadata": {},
   "outputs": [],
   "source": [
    "day = 24\n",
    "hour = 1"
   ]
  },
  {
   "cell_type": "code",
   "execution_count": 59,
   "id": "680af4d6-e47e-4b58-9deb-d859e489ab0a",
   "metadata": {},
   "outputs": [],
   "source": [
    "def seconds(hour_amt):\n",
    "    return hour_amt * 60 * 60"
   ]
  },
  {
   "cell_type": "code",
   "execution_count": 60,
   "id": "8226349f-ac7b-4b18-af1f-1758fd99b5ae",
   "metadata": {},
   "outputs": [],
   "source": [
    "seconds_per_hour = seconds(hour)\n",
    "seconds_per_day = seconds(day)"
   ]
  },
  {
   "cell_type": "code",
   "execution_count": 61,
   "id": "c6141f0a-474e-4189-8fcf-327086548db2",
   "metadata": {},
   "outputs": [
    {
     "name": "stdout",
     "output_type": "stream",
     "text": [
      "3600\n"
     ]
    }
   ],
   "source": [
    "print(seconds_per_hour)"
   ]
  },
  {
   "cell_type": "code",
   "execution_count": 62,
   "id": "92719f88-e132-47f0-be18-ef881e50b370",
   "metadata": {},
   "outputs": [],
   "source": [
    "# d = regular division\n",
    "# id = integer division\n",
    "day_d_hour = seconds_per_day/seconds_per_hour\n",
    "day_id_hour = seconds_per_day//seconds_per_hour"
   ]
  },
  {
   "cell_type": "code",
   "execution_count": 63,
   "id": "299760be-fc46-464b-a955-30e07987967a",
   "metadata": {},
   "outputs": [
    {
     "name": "stdout",
     "output_type": "stream",
     "text": [
      "24.0\n",
      "24\n"
     ]
    }
   ],
   "source": [
    "# same value\n",
    "print(day_d_hour)\n",
    "print(day_id_hour)"
   ]
  }
 ],
 "metadata": {
  "kernelspec": {
   "display_name": "Python 3 (ipykernel)",
   "language": "python",
   "name": "python3"
  },
  "language_info": {
   "codemirror_mode": {
    "name": "ipython",
    "version": 3
   },
   "file_extension": ".py",
   "mimetype": "text/x-python",
   "name": "python",
   "nbconvert_exporter": "python",
   "pygments_lexer": "ipython3",
   "version": "3.12.4"
  }
 },
 "nbformat": 4,
 "nbformat_minor": 5
}
